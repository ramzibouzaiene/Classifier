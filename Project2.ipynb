{
  "nbformat": 4,
  "nbformat_minor": 0,
  "metadata": {
    "colab": {
      "name": "Project2.ipynb",
      "provenance": [],
      "collapsed_sections": []
    },
    "kernelspec": {
      "name": "python3",
      "display_name": "Python 3"
    },
    "language_info": {
      "name": "python"
    }
  },
  "cells": [
    {
      "cell_type": "markdown",
      "metadata": {
        "id": "um2Z8AXTOEHq"
      },
      "source": [
        "#Importation des Bibliothéques"
      ]
    },
    {
      "cell_type": "code",
      "metadata": {
        "id": "XVmTnK5qMxI1"
      },
      "source": [
        "import numpy as np\n",
        "np.set_printoptions(threshold=10000,suppress=True)\n",
        "#np.set_printoptions(suppress=true). \n",
        "#optimisation de l'affichage.\n",
        "\n",
        "import pandas as pd \n",
        "# lecture des fichiers csv ,etc\n",
        "import warnings \n",
        "import matplotlib.pyplot as plt\n",
        "\n",
        "warnings.filterwarnings('ignore') \n",
        "#eviter d'afficher les warnings."
      ],
      "execution_count": 34,
      "outputs": []
    },
    {
      "cell_type": "code",
      "metadata": {
        "colab": {
          "base_uri": "https://localhost:8080/",
          "height": 143
        },
        "id": "4vAod9qQM4Nf",
        "outputId": "8a068e2d-638e-43c1-8c91-aa2df0519498"
      },
      "source": [
        "data=pd.read_csv('./credit_scoring.csv', sep=';', header=0)\n",
        "data.head(3)"
      ],
      "execution_count": 35,
      "outputs": [
        {
          "output_type": "execute_result",
          "data": {
            "text/html": [
              "<div>\n",
              "<style scoped>\n",
              "    .dataframe tbody tr th:only-of-type {\n",
              "        vertical-align: middle;\n",
              "    }\n",
              "\n",
              "    .dataframe tbody tr th {\n",
              "        vertical-align: top;\n",
              "    }\n",
              "\n",
              "    .dataframe thead th {\n",
              "        text-align: right;\n",
              "    }\n",
              "</style>\n",
              "<table border=\"1\" class=\"dataframe\">\n",
              "  <thead>\n",
              "    <tr style=\"text-align: right;\">\n",
              "      <th></th>\n",
              "      <th>Seniority</th>\n",
              "      <th>Home</th>\n",
              "      <th>Time</th>\n",
              "      <th>Age</th>\n",
              "      <th>Marital</th>\n",
              "      <th>Records</th>\n",
              "      <th>Job</th>\n",
              "      <th>Expenses</th>\n",
              "      <th>Income</th>\n",
              "      <th>Assets</th>\n",
              "      <th>Debt</th>\n",
              "      <th>Amount</th>\n",
              "      <th>Price</th>\n",
              "      <th>Status</th>\n",
              "    </tr>\n",
              "  </thead>\n",
              "  <tbody>\n",
              "    <tr>\n",
              "      <th>0</th>\n",
              "      <td>9.0</td>\n",
              "      <td>1.0</td>\n",
              "      <td>60.0</td>\n",
              "      <td>30.0</td>\n",
              "      <td>0.0</td>\n",
              "      <td>1.0</td>\n",
              "      <td>1.0</td>\n",
              "      <td>73.0</td>\n",
              "      <td>129.0</td>\n",
              "      <td>0.0</td>\n",
              "      <td>0.0</td>\n",
              "      <td>800.0</td>\n",
              "      <td>846.0</td>\n",
              "      <td>1</td>\n",
              "    </tr>\n",
              "    <tr>\n",
              "      <th>1</th>\n",
              "      <td>17.0</td>\n",
              "      <td>1.0</td>\n",
              "      <td>60.0</td>\n",
              "      <td>58.0</td>\n",
              "      <td>1.0</td>\n",
              "      <td>1.0</td>\n",
              "      <td>0.0</td>\n",
              "      <td>48.0</td>\n",
              "      <td>131.0</td>\n",
              "      <td>0.0</td>\n",
              "      <td>0.0</td>\n",
              "      <td>1000.0</td>\n",
              "      <td>1658.0</td>\n",
              "      <td>1</td>\n",
              "    </tr>\n",
              "    <tr>\n",
              "      <th>2</th>\n",
              "      <td>10.0</td>\n",
              "      <td>0.0</td>\n",
              "      <td>36.0</td>\n",
              "      <td>46.0</td>\n",
              "      <td>0.0</td>\n",
              "      <td>2.0</td>\n",
              "      <td>1.0</td>\n",
              "      <td>90.0</td>\n",
              "      <td>200.0</td>\n",
              "      <td>3000.0</td>\n",
              "      <td>0.0</td>\n",
              "      <td>2000.0</td>\n",
              "      <td>2985.0</td>\n",
              "      <td>0</td>\n",
              "    </tr>\n",
              "  </tbody>\n",
              "</table>\n",
              "</div>"
            ],
            "text/plain": [
              "   Seniority  Home  Time   Age  Marital  ...  Assets  Debt  Amount   Price  Status\n",
              "0        9.0   1.0  60.0  30.0      0.0  ...     0.0   0.0   800.0   846.0       1\n",
              "1       17.0   1.0  60.0  58.0      1.0  ...     0.0   0.0  1000.0  1658.0       1\n",
              "2       10.0   0.0  36.0  46.0      0.0  ...  3000.0   0.0  2000.0  2985.0       0\n",
              "\n",
              "[3 rows x 14 columns]"
            ]
          },
          "metadata": {
            "tags": []
          },
          "execution_count": 35
        }
      ]
    },
    {
      "cell_type": "code",
      "metadata": {
        "colab": {
          "base_uri": "https://localhost:8080/"
        },
        "id": "Xi-3FpYYOB-k",
        "outputId": "a90d9b31-7c1e-451f-a7e0-5e801a99936c"
      },
      "source": [
        "type(data)\n",
        "data.shape"
      ],
      "execution_count": 36,
      "outputs": [
        {
          "output_type": "execute_result",
          "data": {
            "text/plain": [
              "(4375, 14)"
            ]
          },
          "metadata": {
            "tags": []
          },
          "execution_count": 36
        }
      ]
    },
    {
      "cell_type": "code",
      "metadata": {
        "id": "cM5YWoC_OX2L"
      },
      "source": [
        "X=data.iloc[:,:13].values\n",
        "Y=data.iloc[:,13].values\n"
      ],
      "execution_count": 37,
      "outputs": []
    },
    {
      "cell_type": "code",
      "metadata": {
        "colab": {
          "base_uri": "https://localhost:8080/"
        },
        "id": "VLfWsoIKqBeG",
        "outputId": "c5c962eb-c28f-4c46-9244-1f214caca46f"
      },
      "source": [
        "print(\" Mauvais payeurs : {0:.3f}\".format(100*sum(Y==0) / len(Y)))\n",
        "print(\"Bon payeurs : {0:.3f}\".format(100*sum(Y==1) / len(Y)))"
      ],
      "execution_count": 38,
      "outputs": [
        {
          "output_type": "stream",
          "text": [
            " Mauvais payeurs : 27.794\n",
            "Bon payeurs : 72.206\n"
          ],
          "name": "stdout"
        }
      ]
    },
    {
      "cell_type": "markdown",
      "metadata": {
        "id": "o2X3ihu7qbk0"
      },
      "source": [
        "#Apprentissage"
      ]
    },
    {
      "cell_type": "code",
      "metadata": {
        "id": "84fQlF5wqNwc"
      },
      "source": [
        "from sklearn.model_selection import train_test_split\n",
        "#importation des algorithme.  \n",
        "from sklearn.tree import DecisionTreeClassifier\n",
        "from sklearn.neighbors import KNeighborsClassifier\n",
        "from sklearn.ensemble import RandomForestClassifier\n",
        "#Importation des metriques et de matrice de confusion.\n",
        "from sklearn.metrics import confusion_matrix,accuracy_score,precision_score"
      ],
      "execution_count": 39,
      "outputs": []
    },
    {
      "cell_type": "code",
      "metadata": {
        "id": "ROdFhYRBwRZ7"
      },
      "source": [
        "X_train, X_test, Y_train, Y_test = train_test_split(X, Y, test_size=0.5,random_state=1)"
      ],
      "execution_count": 40,
      "outputs": []
    },
    {
      "cell_type": "code",
      "metadata": {
        "id": "btAChuNpqxXe"
      },
      "source": [
        "def classifieur(X_train, X_test, Y_train, Y_test):\n",
        "    DT=DecisionTreeClassifier(criterion='gini',random_state=1)  #CART\n",
        "    DT.fit(X_train,Y_train)\n",
        "    YDT=DT.predict(X_test)\n",
        "    print(confusion_matrix(Y_test,YDT))\n",
        "    print(\"Accuracy = {0:.3f}\".format(accuracy_score(Y_test,YDT)))\n",
        "    print(\"Precision = {0:.3f}\".format(precision_score(Y_test,YDT)))\n",
        "\n",
        "    print()\n",
        "    DT=DecisionTreeClassifier(criterion='entropy',random_state=1)  #CART\n",
        "    DT.fit(X_train,Y_train)\n",
        "    YDT=DT.predict(X_test)\n",
        "    print(confusion_matrix(Y_test,YDT))\n",
        "    print(\"Accuracy = {0:.3f}\".format(accuracy_score(Y_test,YDT)))\n",
        "    print(\"Precision = {0:.3f}\".format(precision_score(Y_test,YDT)))\n",
        "\n",
        "    print()\n",
        "    knn=KNeighborsClassifier(n_neighbors=5)\n",
        "    knn.fit(X_train,Y_train)\n",
        "    Yknn=knn.predict(X_test)\n",
        "    print(confusion_matrix(Y_test,Yknn))\n",
        "    print(\"Accuracy = {0:.3f}\".format(accuracy_score(Y_test,Yknn)))\n",
        "    print(\"Precision = {0:.3f}\".format(precision_score(Y_test,Yknn)))\n",
        "\n",
        "    print()\n",
        "    RF=RandomForestClassifier(n_estimators=100,random_state=1)\n",
        "    RF.fit(X_train,Y_train)\n",
        "    YRF=RF.predict(X_test)\n",
        "    print(confusion_matrix(Y_test,YRF))\n",
        "    print(\"Accuracy = {0:.3f}\".format(accuracy_score(Y_test,YRF)))\n",
        "    print(\"Precision = {0:.3f}\".format(precision_score(Y_test,YRF)))"
      ],
      "execution_count": 41,
      "outputs": []
    },
    {
      "cell_type": "code",
      "metadata": {
        "colab": {
          "base_uri": "https://localhost:8080/"
        },
        "id": "2Lqn6H0ssUjt",
        "outputId": "48b4d521-b26f-49d5-ce21-1dc30b7ce352"
      },
      "source": [
        "classifieur(X_train, X_test, Y_train, Y_test)"
      ],
      "execution_count": 42,
      "outputs": [
        {
          "output_type": "stream",
          "text": [
            "[[ 325  279]\n",
            " [ 318 1266]]\n",
            "Accuracy = 0.727\n",
            "Precision = 0.819\n",
            "\n",
            "[[ 323  281]\n",
            " [ 323 1261]]\n",
            "Accuracy = 0.724\n",
            "Precision = 0.818\n",
            "\n",
            "[[ 189  415]\n",
            " [ 187 1397]]\n",
            "Accuracy = 0.725\n",
            "Precision = 0.771\n",
            "\n",
            "[[ 309  295]\n",
            " [ 168 1416]]\n",
            "Accuracy = 0.788\n",
            "Precision = 0.828\n"
          ],
          "name": "stdout"
        }
      ]
    },
    {
      "cell_type": "markdown",
      "metadata": {
        "id": "slUbuLHCsZxV"
      },
      "source": [
        "#Normalisation des données."
      ]
    },
    {
      "cell_type": "code",
      "metadata": {
        "id": "mrow5LXWsdHT"
      },
      "source": [
        "#importation des standards de normalisation.\n",
        "from sklearn.preprocessing import StandardScaler"
      ],
      "execution_count": 43,
      "outputs": []
    },
    {
      "cell_type": "code",
      "metadata": {
        "colab": {
          "base_uri": "https://localhost:8080/"
        },
        "id": "E_-yg3NUsfjs",
        "outputId": "af613fd6-44ee-4059-be9c-066dd3835e38"
      },
      "source": [
        "ss=StandardScaler()\n",
        "ss.fit(X_train)\n",
        "X_train_norm=ss.transform(X_train)\n",
        "X_test_norm=ss.transform(X_test)\n",
        "classifieur(X_train_norm, X_test_norm, Y_train, Y_test)"
      ],
      "execution_count": 44,
      "outputs": [
        {
          "output_type": "stream",
          "text": [
            "[[ 322  282]\n",
            " [ 315 1269]]\n",
            "Accuracy = 0.727\n",
            "Precision = 0.818\n",
            "\n",
            "[[ 321  283]\n",
            " [ 324 1260]]\n",
            "Accuracy = 0.723\n",
            "Precision = 0.817\n",
            "\n",
            "[[ 286  318]\n",
            " [ 223 1361]]\n",
            "Accuracy = 0.753\n",
            "Precision = 0.811\n",
            "\n",
            "[[ 308  296]\n",
            " [ 169 1415]]\n",
            "Accuracy = 0.787\n",
            "Precision = 0.827\n"
          ],
          "name": "stdout"
        }
      ]
    },
    {
      "cell_type": "markdown",
      "metadata": {
        "id": "AlcOiUZZsokm"
      },
      "source": [
        "#Amelioration avec la méthode PCA."
      ]
    },
    {
      "cell_type": "code",
      "metadata": {
        "id": "f42TyS15yx2Z"
      },
      "source": [
        "from sklearn.decomposition import PCA"
      ],
      "execution_count": 45,
      "outputs": []
    },
    {
      "cell_type": "code",
      "metadata": {
        "id": "W8LxTaD-stwR"
      },
      "source": [
        "pca=PCA(n_components=3)\n",
        "pca.fit(X_train_norm)\n",
        "\n",
        "X1=pca.transform(X_train_norm)\n",
        "X_train_pca=np.concatenate((X_train_norm,X1),axis=1)\n",
        "\n",
        "X2=pca.transform(X_test_norm)\n",
        "X_test_pca=np.concatenate((X_test_norm,X2),axis=1)"
      ],
      "execution_count": 46,
      "outputs": []
    },
    {
      "cell_type": "code",
      "metadata": {
        "colab": {
          "base_uri": "https://localhost:8080/"
        },
        "id": "FRnlDqbjs7Rr",
        "outputId": "fbace2c8-f3b8-4db5-91ac-5df5eb1c80f2"
      },
      "source": [
        "classifieur(X_train_pca, X_test_pca, Y_train, Y_test)"
      ],
      "execution_count": 47,
      "outputs": [
        {
          "output_type": "stream",
          "text": [
            "[[ 351  253]\n",
            " [ 324 1260]]\n",
            "Accuracy = 0.736\n",
            "Precision = 0.833\n",
            "\n",
            "[[ 335  269]\n",
            " [ 344 1240]]\n",
            "Accuracy = 0.720\n",
            "Precision = 0.822\n",
            "\n",
            "[[ 283  321]\n",
            " [ 212 1372]]\n",
            "Accuracy = 0.756\n",
            "Precision = 0.810\n",
            "\n",
            "[[ 314  290]\n",
            " [ 145 1439]]\n",
            "Accuracy = 0.801\n",
            "Precision = 0.832\n"
          ],
          "name": "stdout"
        }
      ]
    },
    {
      "cell_type": "markdown",
      "metadata": {
        "id": "BQdpz3kRs9YN"
      },
      "source": [
        "#Selection des Feautures."
      ]
    },
    {
      "cell_type": "code",
      "metadata": {
        "id": "PXKADY8ctEWW"
      },
      "source": [
        "features=data.columns[:13]"
      ],
      "execution_count": 49,
      "outputs": []
    },
    {
      "cell_type": "code",
      "metadata": {
        "colab": {
          "base_uri": "https://localhost:8080/",
          "height": 347
        },
        "id": "J_45GMUNtJVr",
        "outputId": "f7f03011-cb32-473a-ba3a-b814715524ff"
      },
      "source": [
        "clf = RandomForestClassifier(n_estimators=500) \n",
        "clf.fit(X_train_norm, Y_train) \n",
        "importances=clf.feature_importances_\n",
        "std = np.std([tree.feature_importances_ for tree in clf.estimators_],axis=0) \n",
        "sorted_idx = np.argsort(importances)[::-1]\n",
        "print(features[sorted_idx])\n",
        "padding = np.arange(X_train_norm.size/len(X_train_norm)) + 0.5 \n",
        "plt.barh(padding, importances[sorted_idx],xerr=std[sorted_idx], align='center') \n",
        "plt.yticks(padding, features[sorted_idx])\n",
        "plt.xlabel(\"Relative Importance\")\n",
        "plt.title(\"Variable Importance\")\n",
        "plt.show()"
      ],
      "execution_count": 50,
      "outputs": [
        {
          "output_type": "stream",
          "text": [
            "Index(['Income', 'Seniority', 'Price', 'Amount', 'Age', 'Assets', 'Expenses',\n",
            "       'Records', 'Time', 'Job', 'Debt', 'Home', 'Marital'],\n",
            "      dtype='object')\n"
          ],
          "name": "stdout"
        },
        {
          "output_type": "display_data",
          "data": {
            "image/png": "[encoded data removed]",
            "text/plain": [
              "<Figure size 432x288 with 1 Axes>"
            ]
          },
          "metadata": {
            "tags": [],
            "needs_background": "light"
          }
        }
      ]
    },
    {
      "cell_type": "code",
      "metadata": {
        "colab": {
          "base_uri": "https://localhost:8080/",
          "height": 329
        },
        "id": "acc7_1odtN3z",
        "outputId": "4cf162dd-f57c-4be9-dd8a-2b319021325e"
      },
      "source": [
        "KNN=KNeighborsClassifier(n_neighbors=5)\n",
        "scores=np.zeros(X_train_norm.shape[1]+1)\n",
        "for f in np.arange(0, X_train_norm.shape[1]+1):\n",
        "    X1_f = X_train_norm[:,sorted_idx[:f+1]]\n",
        "    X2_f = X_test_norm[:,sorted_idx[:f+1]] \n",
        "    KNN.fit(X1_f,Y_train)\n",
        "    YKNN=KNN.predict(X2_f) \n",
        "    scores[f]=np.round(accuracy_score(Y_test,YKNN),3)\n",
        "\n",
        "plt.plot(scores)\n",
        "plt.xlabel(\"Nombre de Variables\")\n",
        "plt.ylabel(\"Accuracy\")\n",
        "plt.title(\"Evolution de l'accuracy en fonction des variables\") \n",
        "plt.show()\n",
        "print(scores)"
      ],
      "execution_count": 51,
      "outputs": [
        {
          "output_type": "display_data",
          "data": {
            "image/png": "[encoded data removed]",
            "text/plain": [
              "<Figure size 432x288 with 1 Axes>"
            ]
          },
          "metadata": {
            "tags": [],
            "needs_background": "light"
          }
        },
        {
          "output_type": "stream",
          "text": [
            "[0.668 0.713 0.715 0.726 0.733 0.731 0.745 0.757 0.756 0.751 0.749 0.759\n",
            " 0.753 0.753]\n"
          ],
          "name": "stdout"
        }
      ]
    },
    {
      "cell_type": "markdown",
      "metadata": {
        "id": "5TqIL1OAtsg6"
      },
      "source": [
        "#Choix des paramétres d'un algorithme."
      ]
    },
    {
      "cell_type": "code",
      "metadata": {
        "colab": {
          "base_uri": "https://localhost:8080/"
        },
        "id": "wYsG3DbDtzKC",
        "outputId": "08081311-458c-4e05-f0c0-7eb190699014"
      },
      "source": [
        "from sklearn.model_selection import GridSearchCV\n",
        "parameters = {'n_neighbors': [1,3,5,7,9,10]}\n",
        "model = KNeighborsClassifier()\n",
        "GS = GridSearchCV(model, parameters,scoring='accuracy',cv=10)\n",
        "grille=GS.fit(X_train_pca, Y_train)\n",
        "print(grille.best_params_)\n",
        "print(grille.best_score_)\n",
        "\n",
        "YKNN_O = grille.predict(X_test_pca)\n",
        "print(\"Accuracy_score d'un KNN optimise: {0:.3f}\".format(accuracy_score(Y_test,YKNN_O)))"
      ],
      "execution_count": 52,
      "outputs": [
        {
          "output_type": "stream",
          "text": [
            "{'n_neighbors': 9}\n",
            "0.7571949227095639\n",
            "Accuracy_score d'un KNN optimise: 0.769\n"
          ],
          "name": "stdout"
        }
      ]
    },
    {
      "cell_type": "code",
      "metadata": {
        "colab": {
          "base_uri": "https://localhost:8080/"
        },
        "id": "tQWaIYKjt6ll",
        "outputId": "2d371775-7a53-4156-b4b2-3c973bebf87d"
      },
      "source": [
        "parameters = {'criterion': ['gini','entropy'],'max_depth': [1,2,3,4,5,None]}\n",
        "model = DecisionTreeClassifier(random_state=1)\n",
        "GS = GridSearchCV(model, parameters,scoring='accuracy',cv=10)\n",
        "grille=GS.fit(X_train_pca, Y_train)\n",
        "print(grille.best_params_)\n",
        "print(grille.best_score_)\n",
        "\n",
        "YDT_O = grille.predict(X_test_pca)\n",
        "print(\"Accuracy_score d'un DT optimise: {0:.3f}\".format(accuracy_score(Y_test,YDT_O)))"
      ],
      "execution_count": 53,
      "outputs": [
        {
          "output_type": "stream",
          "text": [
            "{'criterion': 'gini', 'max_depth': 4}\n",
            "0.7649511960118973\n",
            "Accuracy_score d'un DT optimise: 0.767\n"
          ],
          "name": "stdout"
        }
      ]
    },
    {
      "cell_type": "markdown",
      "metadata": {
        "id": "sAhcnLmit8sU"
      },
      "source": [
        "#Creation des Pipeline. "
      ]
    },
    {
      "cell_type": "code",
      "metadata": {
        "id": "vOx0z4QduB0n"
      },
      "source": [
        "from sklearn.pipeline import Pipeline,FeatureUnion\n",
        "import pickle #pour stocekr les ficheirs executables."
      ],
      "execution_count": 54,
      "outputs": []
    },
    {
      "cell_type": "code",
      "metadata": {
        "colab": {
          "base_uri": "https://localhost:8080/"
        },
        "id": "QBZ2M_4MuE2q",
        "outputId": "f5d5889f-988a-4516-f0bd-0b9a976971c1"
      },
      "source": [
        "P = Pipeline([('ss',StandardScaler()),\n",
        "                    ('FU',FeatureUnion([('ss',StandardScaler()),(\"pca\", PCA(n_components=3))])),\n",
        "                    ('classifieur',KNeighborsClassifier(n_neighbors=9))\n",
        "                    ])\n",
        "P.fit(X_train_norm,Y_train)\n",
        "pickle.dump(P, open( \"pipeline.pkl\", \"wb\" ) )\n",
        "prediction=P.predict(X_test_norm)\n",
        "print(\"Accuracy_score d'un KNN : {0:.3f}\".format(accuracy_score(Y_test,prediction)))"
      ],
      "execution_count": 55,
      "outputs": [
        {
          "output_type": "stream",
          "text": [
            "Accuracy_score d'un KNN : 0.769\n"
          ],
          "name": "stdout"
        }
      ]
    },
    {
      "cell_type": "code",
      "metadata": {
        "id": "O2bC6_Y1uWhP"
      },
      "source": [
        ""
      ],
      "execution_count": null,
      "outputs": []
    },
    {
      "cell_type": "code",
      "metadata": {
        "colab": {
          "base_uri": "https://localhost:8080/",
          "height": 132
        },
        "id": "ydlSd9gQuW2d",
        "outputId": "d1936de0-032c-4288-f47f-c0094d89c0d6"
      },
      "source": [
        "from sklearn.tree import DecisionTreeClassifier\n",
        "from sklearn.neighbors import KNeighborsClassifier\n",
        "from sklearn.neural_network import MLPClassifier\n",
        "from sklearn.ensemble import RandomForestClassifier, AdaBoostClassifier, BaggingClassifier\n",
        "from sklearn.naive_bayes import GaussianNB\n",
        "from sklearn.model_selection import cross_val_score, KFold\n",
        "import time clfs = {\n",
        "    'RF': RandomForestClassifier(n_estimators=100,random_state=1),\n",
        "    'ADA': AdaBoostClassifier(n_estimators=100,random_state=1),\n",
        "    'BAG': BaggingClassifier(n_estimators=100,random_state=1),\n",
        "    'KNN': KNeighborsClassifier(n_neighbors=5),\n",
        "    'NB': GaussianNB(),\n",
        "    'MLP': MLPClassifier(hidden_layer_sizes=(20, 10), alpha=0.001, max_iter=200,random_state=1),\n",
        "    'CART': DecisionTreeClassifier(criterion='gini',random_state=1),\n",
        "    'ID3': DecisionTreeClassifier(criterion='entropy',random_state=1),\n",
        "    'ST': DecisionTreeClassifier(max_depth=1,random_state=1)\n",
        "}"
      ],
      "execution_count": 70,
      "outputs": [
        {
          "output_type": "error",
          "ename": "SyntaxError",
          "evalue": "ignored",
          "traceback": [
            "\u001b[0;36m  File \u001b[0;32m\"<ipython-input-70-e1402f0651a0>\"\u001b[0;36m, line \u001b[0;32m7\u001b[0m\n\u001b[0;31m    import time clfs = {\u001b[0m\n\u001b[0m                   ^\u001b[0m\n\u001b[0;31mSyntaxError\u001b[0m\u001b[0;31m:\u001b[0m invalid syntax\n"
          ]
        }
      ]
    },
    {
      "cell_type": "code",
      "metadata": {
        "id": "Ddew84VDuwMz"
      },
      "source": [
        "\n",
        "def run_classifiers (X,Y,clfs):\n",
        "    kf = KFold(n_splits=5, shuffle=True, random_state=0) \n",
        "    for clf_name in clfs:\n",
        "        begin = time.time()\n",
        "        clf = clfs[clf_name]\n",
        "        cv_acc = cross_val_score(clf, X, Y, cv=kf)\n",
        "        end = time.time()\n",
        "        cv_precision = cross_val_score(clf, X, Y, cv=kf, scoring='precision') \n",
        "        print(\"Accuracy for {0} is: {1:.3f} +/- {2:.3f} (in {3:.2f} seconds)\".format(\n",
        "                clf_name, np.mean(cv_acc), np.std(cv_acc), end-begin))\n",
        "        print(\"Precision for {0} is: {1:.3f} +/- {2:.3f}\".format(clf_name,\n",
        "                                                                 np.mean(cv_precision), \n",
        "                                                                 np.std(cv_precision)))\n",
        "        print()"
      ],
      "execution_count": 69,
      "outputs": []
    },
    {
      "cell_type": "code",
      "metadata": {
        "id": "lTvdo_zzvhQb"
      },
      "source": [
        "run_classifiers (X,Y,clfs)"
      ],
      "execution_count": null,
      "outputs": []
    },
    {
      "cell_type": "code",
      "metadata": {
        "id": "l5Fv8Wuxvj_L"
      },
      "source": [
        "ss=StandardScaler()\n",
        "ss.fit(X)\n",
        "X_norm=ss.transform(X)\n",
        "run_classifiers (X_norm,Y,clfs)"
      ],
      "execution_count": null,
      "outputs": []
    }
  ]
}